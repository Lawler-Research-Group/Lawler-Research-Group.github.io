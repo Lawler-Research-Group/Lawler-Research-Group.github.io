{
  "nbformat": 4,
  "nbformat_minor": 0,
  "metadata": {
    "colab": {
      "provenance": [],
      "authorship_tag": "ABX9TyO3dBmKviGWFYw9rawFupb7",
      "include_colab_link": true
    },
    "kernelspec": {
      "name": "python3",
      "display_name": "Python 3"
    },
    "language_info": {
      "name": "python"
    }
  },
  "cells": [
    {
      "cell_type": "markdown",
      "metadata": {
        "id": "view-in-github",
        "colab_type": "text"
      },
      "source": [
        "<a href=\"https://colab.research.google.com/github/Lawler-Research-Group/Lawler-Research-Group.github.io/blob/master/BI_TACS_data.ipynb\" target=\"_parent\"><img src=\"https://colab.research.google.com/assets/colab-badge.svg\" alt=\"Open In Colab\"/></a>"
      ]
    },
    {
      "cell_type": "code",
      "execution_count": 2,
      "metadata": {
        "colab": {
          "base_uri": "https://localhost:8080/"
        },
        "id": "-dZw35vTVQRX",
        "outputId": "70332da9-75c6-4152-a742-ce6453991d63"
      },
      "outputs": [
        {
          "output_type": "stream",
          "name": "stdout",
          "text": [
            "Looking in indexes: https://pypi.org/simple, https://us-python.pkg.dev/colab-wheels/public/simple/\n",
            "Requirement already satisfied: pymc in /usr/local/lib/python3.7/dist-packages (4.1.4)\n",
            "Requirement already satisfied: typing-extensions>=3.7.4 in /usr/local/lib/python3.7/dist-packages (from pymc) (4.1.1)\n",
            "Requirement already satisfied: cachetools>=4.2.1 in /usr/local/lib/python3.7/dist-packages (from pymc) (4.2.4)\n",
            "Requirement already satisfied: scipy>=1.4.1 in /usr/local/lib/python3.7/dist-packages (from pymc) (1.7.3)\n",
            "Requirement already satisfied: aeppl==0.0.33 in /usr/local/lib/python3.7/dist-packages (from pymc) (0.0.33)\n",
            "Requirement already satisfied: numpy>=1.15.0 in /usr/local/lib/python3.7/dist-packages (from pymc) (1.21.6)\n",
            "Requirement already satisfied: cloudpickle in /usr/local/lib/python3.7/dist-packages (from pymc) (1.5.0)\n",
            "Requirement already satisfied: aesara==2.7.9 in /usr/local/lib/python3.7/dist-packages (from pymc) (2.7.9)\n",
            "Requirement already satisfied: pandas>=0.24.0 in /usr/local/lib/python3.7/dist-packages (from pymc) (1.3.5)\n",
            "Requirement already satisfied: fastprogress>=0.2.0 in /usr/local/lib/python3.7/dist-packages (from pymc) (1.0.3)\n",
            "Requirement already satisfied: arviz>=0.12.0 in /usr/local/lib/python3.7/dist-packages (from pymc) (0.12.1)\n",
            "Requirement already satisfied: filelock in /usr/local/lib/python3.7/dist-packages (from aesara==2.7.9->pymc) (3.8.0)\n",
            "Requirement already satisfied: miniKanren in /usr/local/lib/python3.7/dist-packages (from aesara==2.7.9->pymc) (1.0.3)\n",
            "Requirement already satisfied: cons in /usr/local/lib/python3.7/dist-packages (from aesara==2.7.9->pymc) (0.4.5)\n",
            "Requirement already satisfied: etuples in /usr/local/lib/python3.7/dist-packages (from aesara==2.7.9->pymc) (0.3.8)\n",
            "Requirement already satisfied: setuptools>=45.0.0 in /usr/local/lib/python3.7/dist-packages (from aesara==2.7.9->pymc) (57.4.0)\n",
            "Requirement already satisfied: logical-unification in /usr/local/lib/python3.7/dist-packages (from aesara==2.7.9->pymc) (0.4.5)\n",
            "Requirement already satisfied: netcdf4 in /usr/local/lib/python3.7/dist-packages (from arviz>=0.12.0->pymc) (1.6.1)\n",
            "Requirement already satisfied: matplotlib>=3.0 in /usr/local/lib/python3.7/dist-packages (from arviz>=0.12.0->pymc) (3.2.2)\n",
            "Requirement already satisfied: packaging in /usr/local/lib/python3.7/dist-packages (from arviz>=0.12.0->pymc) (21.3)\n",
            "Requirement already satisfied: xarray>=0.16.1 in /usr/local/lib/python3.7/dist-packages (from arviz>=0.12.0->pymc) (0.20.2)\n",
            "Requirement already satisfied: xarray-einstats>=0.2 in /usr/local/lib/python3.7/dist-packages (from arviz>=0.12.0->pymc) (0.2.2)\n",
            "Requirement already satisfied: kiwisolver>=1.0.1 in /usr/local/lib/python3.7/dist-packages (from matplotlib>=3.0->arviz>=0.12.0->pymc) (1.4.4)\n",
            "Requirement already satisfied: python-dateutil>=2.1 in /usr/local/lib/python3.7/dist-packages (from matplotlib>=3.0->arviz>=0.12.0->pymc) (2.8.2)\n",
            "Requirement already satisfied: pyparsing!=2.0.4,!=2.1.2,!=2.1.6,>=2.0.1 in /usr/local/lib/python3.7/dist-packages (from matplotlib>=3.0->arviz>=0.12.0->pymc) (3.0.9)\n",
            "Requirement already satisfied: cycler>=0.10 in /usr/local/lib/python3.7/dist-packages (from matplotlib>=3.0->arviz>=0.12.0->pymc) (0.11.0)\n",
            "Requirement already satisfied: pytz>=2017.3 in /usr/local/lib/python3.7/dist-packages (from pandas>=0.24.0->pymc) (2022.5)\n",
            "Requirement already satisfied: six>=1.5 in /usr/local/lib/python3.7/dist-packages (from python-dateutil>=2.1->matplotlib>=3.0->arviz>=0.12.0->pymc) (1.15.0)\n",
            "Requirement already satisfied: importlib-metadata in /usr/local/lib/python3.7/dist-packages (from xarray>=0.16.1->arviz>=0.12.0->pymc) (4.13.0)\n",
            "Requirement already satisfied: toolz in /usr/local/lib/python3.7/dist-packages (from logical-unification->aesara==2.7.9->pymc) (0.12.0)\n",
            "Requirement already satisfied: multipledispatch in /usr/local/lib/python3.7/dist-packages (from logical-unification->aesara==2.7.9->pymc) (0.6.0)\n",
            "Requirement already satisfied: zipp>=0.5 in /usr/local/lib/python3.7/dist-packages (from importlib-metadata->xarray>=0.16.1->arviz>=0.12.0->pymc) (3.9.0)\n",
            "Requirement already satisfied: cftime in /usr/local/lib/python3.7/dist-packages (from netcdf4->arviz>=0.12.0->pymc) (1.6.2)\n",
            "Mounted at /content/drive\n"
          ]
        }
      ],
      "source": [
        "!pip install pymc\n",
        "import pymc as pm\n",
        "import pandas as pd\n",
        "import statsmodels.api as sm\n",
        "%matplotlib inline\n",
        "import math\n",
        "from IPython.core.pylabtools import figsize\n",
        "import os\n",
        "import re\n",
        "import matplotlib.pyplot as plt\n",
        "import arviz as az\n",
        "%config InlineBackend.figure_format = 'retina'\n",
        "az.style.use(\"arviz-darkgrid\")\n",
        "import numpy as np\n",
        "import random\n",
        "from math import sqrt\n",
        "from scipy.optimize import curve_fit\n",
        "from numba import njit\n",
        "from matplotlib.pyplot import figure\n",
        "#import aesara.tensor as at\n",
        "#from aesara import function\n",
        "# use the three commands below only if you're using google colab\n",
        "from google.colab import files\n",
        "from google.colab import drive\n",
        "drive.mount('/content/drive')"
      ]
    },
    {
      "cell_type": "code",
      "source": [
        "def extract_num(string):\n",
        "  result = re.findall(r\"[-+]?\\d*\\.\\d+|\\d+\", string)\n",
        "  floats = []\n",
        "  for i in range(len(result)):\n",
        "    floats.append(float(result[i]))\n",
        "  if len(floats) == 1:\n",
        "    return floats[0]\n",
        "  else:    \n",
        "    return floats\n",
        "\n",
        "def cs_encoding(x):\n",
        "  x.replace('\"', '')\n",
        "  x.replace('=','')\n",
        "  x.replace('>','')\n",
        "  x = ''.join(filter(str.isalnum, x))\n",
        "  lst = []\n",
        "  for i in range(int(len(x)/2)):\n",
        "    if x[2*i]=='Z' and x[2*i+1]=='1':\n",
        "      lst.append(int(0))\n",
        "    elif x[2*i]=='Z' and x[2*i+1]=='0':\n",
        "      lst.append(int(1))\n",
        "    elif x[2*i]=='X' and x[2*i+1]=='1':\n",
        "      lst.append(int(2))\n",
        "    elif x[2*i]=='X' and x[2*i+1]=='0':\n",
        "      lst.append(int(3))\n",
        "    elif x[2*i]=='Y' and x[2*i+1]=='1':\n",
        "      lst.append(int(4))\n",
        "    elif x[2*i]=='Y' and x[2*i+1]=='0':\n",
        "      lst.append(int(5))\n",
        "  return lst \n",
        "\n",
        "def data_load(prefix='/content/drive/MyDrive/Datasets/187.zip/', lops=False):\n",
        "  files = [f for f in os.listdir(prefix) if (('ti' in f) == False and ('mag' in f) == False)]\n",
        "  df_lst = []\n",
        "  c = 0\n",
        "  for f in range(len(files)):\n",
        "    hx_time = extract_num(files[f])\n",
        "    if lops==True and hx_time > 1 and c <= 40:\n",
        "      c += 1\n",
        "      continue\n",
        "    df = pd.read_csv(prefix+'/'+files[f], '\\t', names=['spin_measurements'])\n",
        "    df['spin_measurements'] = df['spin_measurements'].apply(lambda x: cs_encoding(x)) \n",
        "    df['hx'] = hx_time\n",
        "    df_lst.append(df)\n",
        "  return df_lst        \n",
        "\n",
        "def process_cs_data(data_frame):\n",
        "  state_list = []\n",
        "  h = len(data_frame)\n",
        "  T = len(data_frame[0])\n",
        "  N = len(data_frame[0]['spin_measurements'].loc[0])\n",
        "  states = np.zeros((h ,T, N))\n",
        "  hx_values = []\n",
        "  # times = []\n",
        "  for i in range(len(data_frame)):\n",
        "    state_list.append(data_frame[i]['spin_measurements'].apply(lambda x: np.array(x)).to_numpy())\n",
        "    hx_values.append(data_frame[i]['hx'].loc[0])\n",
        "    # times.append(data_frame[i][j]['time'].loc[0])\n",
        "  for i in range(len(state_list)):\n",
        "   for j in range(len(state_list[0])):\n",
        "     states[i][j][0:N] = state_list[i][j][0:N]\n",
        "  idx = np.argsort(hx_values)\n",
        "  states = states[idx]\n",
        "  hx_values = np.array(hx_values)[idx] \n",
        "  # times = np.array(times)[idx]\n",
        "  return states.astype(\"int\"), hx_values     "
      ],
      "metadata": {
        "id": "AdVYAXMW0nYZ"
      },
      "execution_count": 3,
      "outputs": []
    },
    {
      "cell_type": "code",
      "source": [
        "# pauli matrix eigenvectors\n",
        "z_up = np.array([1,0])\n",
        "z_down = np.array([0,1])\n",
        "x_up = (1/sqrt(2))*np.array([1,1])\n",
        "x_down = (1/sqrt(2))*np.array([1,-1])\n",
        "y_up = (1/sqrt(2))*np.array([1, 1j])\n",
        "y_down = (1/sqrt(2))*np.array([1,-1j]) \n",
        "cs_eigvecs = [z_up,z_down,x_up,x_down,y_up,y_down]      # the order here is important\n",
        "z_eigvecs = [z_down, z_up]\n",
        "\n",
        "def sigma(vec):\n",
        "  return 3*np.outer(vec, np.conjugate(vec)) - np.identity(len(vec))\n",
        "\n",
        "def trace_sigma(vec1,vec2):\n",
        "  return np.trace(np.matmul(sigma(vec1), sigma(vec2)))\n",
        "\n",
        "tr_mat_cs = np.zeros((len(cs_eigvecs),len(cs_eigvecs)))\n",
        "for i in range(len(cs_eigvecs)):\n",
        "  for j in range(len(cs_eigvecs)):\n",
        "    tr_mat_cs[i,j] = trace_sigma(cs_eigvecs[i], cs_eigvecs[j])\n",
        "# this 6*6 matrix is the trace matrix that gives. so tr_mat_cs[2,3] would give trace(sigma(x_up),sigma(x_down))    "
      ],
      "metadata": {
        "colab": {
          "base_uri": "https://localhost:8080/"
        },
        "id": "jXyhjI72hYvA",
        "outputId": "defb1888-f621-4f3d-bd12-df1d58c37864"
      },
      "execution_count": 4,
      "outputs": [
        {
          "output_type": "stream",
          "name": "stderr",
          "text": [
            "/usr/local/lib/python3.7/dist-packages/ipykernel_launcher.py:20: ComplexWarning: Casting complex values to real discards the imaginary part\n"
          ]
        }
      ]
    },
    {
      "cell_type": "code",
      "source": [
        "@njit\n",
        "def ren_x(rho, n, trace_matrix=tr_mat_cs):\n",
        "  # here rho is 2D np array which represents a TACS, each row is a snapshot. Trace_matrix is the 6*6 matrix which holds the trace(sigma1*sigma2) values.\n",
        "  # n is the reduced no. of qubits \n",
        "  ren = 0\n",
        "  c = 1\n",
        "  N, L = np.shape(rho)\n",
        "  if n%2 == 0:\n",
        "    left = int(10 - n/2)\n",
        "    right = int(10 + n/2)\n",
        "  else:\n",
        "    if n == 1:\n",
        "      left = 10\n",
        "      right = 11\n",
        "    else:  \n",
        "      left = int(10 - (n/2 - 0.5))\n",
        "      right = int(10 + (n/2 + 0.5))      \n",
        "  for i in range(N):\n",
        "    for j in range(N):\n",
        "      for g in range(left,right):\n",
        "          c = c * trace_matrix[rho[i,g],rho[j,g]] \n",
        "      ren = ren + c  \n",
        "      c = 1  \n",
        "  return ren / (N**2) \n",
        "\n",
        "@njit\n",
        "def ren_all(rho_Ts, n, x=1):\n",
        "  ren_x(rho_Ts[0],n=1)\n",
        "  ren_S = np.zeros(len(rho_Ts))\n",
        "  for j in range(len(rho_Ts)):\n",
        "    ren_S[j] = ren_x(rho_Ts[j],n=n)\n",
        "  return ren_S"
      ],
      "metadata": {
        "id": "snWUYIJr6FAc"
      },
      "execution_count": 5,
      "outputs": []
    },
    {
      "cell_type": "code",
      "source": [
        "def get_tacs(hx, no_shots, states, hx_values):\n",
        "  i = list(hx_values).index(hx)\n",
        "  state = states[i]\n",
        "  inds = np.random.randint(len(state)-1, size=no_shots)\n",
        "  tacs = state[inds]\n",
        "  return tacs\n",
        "\n",
        "def data_gen(hx, no_points, states, hx_values, n_vals=np.arange(1,6), N_vals=np.arange(100,500)):\n",
        "  gamma_vals = np.zeros((no_points,3))\n",
        "  for i in range(no_points):\n",
        "    n = n_vals[np.random.randint(len(n_vals))]\n",
        "    N_shots = N_vals[np.random.randint(len(N_vals))]\n",
        "    CS = get_tacs(hx, N_shots,states=states,hx_values=hx_values)\n",
        "    gam = ren_x(CS,n=n)\n",
        "    gamma_vals[i] = n, N_shots, gam\n",
        "  return gamma_vals \n",
        "\n",
        "def data_gen2(hx, states, hx_values, no_n=5, no_N=500, n_low=1, n_high=5, N_low=10000, N_high=20000):\n",
        "  n_vals = np.linspace(n_low,n_high,no_n)\n",
        "  N_vals = np.linspace(N_low,N_high,no_N)\n",
        "  gamma_vals = np.zeros((len(n_vals),len(N_vals)))\n",
        "  for i in range(no_n):\n",
        "    for j in range(no_N):\n",
        "      n, N = round(n_vals[i]), round(N_vals[j])\n",
        "      CS = get_tacs(hx, N, states=states, hx_values=hx_values)\n",
        "      gam = ren_x(CS,n=n)\n",
        "      gamma_vals[i,j] = gam\n",
        "      n_vals[i], N_vals[j] = n, N\n",
        "  return n_vals, N_vals, gamma_vals   "
      ],
      "metadata": {
        "id": "0aWHJcRTjw9W"
      },
      "execution_count": 7,
      "outputs": []
    },
    {
      "cell_type": "code",
      "source": [
        "df = data_load()\n",
        "states, hx_values = process_cs_data(df)\n",
        "np.shape(states)"
      ],
      "metadata": {
        "colab": {
          "base_uri": "https://localhost:8080/"
        },
        "id": "qFvTX6DEVmWC",
        "outputId": "d6de222d-6b87-44e8-aa73-169f733ae80c"
      },
      "execution_count": 8,
      "outputs": [
        {
          "output_type": "stream",
          "name": "stderr",
          "text": [
            "/usr/local/lib/python3.7/dist-packages/ipykernel_launcher.py:1: FutureWarning: In a future version of pandas all arguments of read_csv except for the argument 'filepath_or_buffer' will be keyword-only\n",
            "  \"\"\"Entry point for launching an IPython kernel.\n"
          ]
        },
        {
          "output_type": "execute_result",
          "data": {
            "text/plain": [
              "(187, 500, 20)"
            ]
          },
          "metadata": {},
          "execution_count": 8
        }
      ]
    },
    {
      "cell_type": "code",
      "source": [
        "# DO NOT TOUCH THIS CELL UNLESS\n",
        "a_hold = []\n",
        "b_hold = []\n",
        "hx_hold = []\n",
        "hxs = hx_values[0:2]\n",
        "#hxs = hxs[np.random.randint(len(hxs)-1, size=40)]\n",
        "for h in range(len(hxs)):\n",
        "  dat = data_gen(hxs[h], 300, n_vals=np.arange(1,6))\n",
        "  n_vals = dat[:,0]\n",
        "  N_vals = dat[:,1]\n",
        "  gam_vals = dat[:,2]\n",
        "  with pm.Model() as model:\n",
        "    a = pm.HalfNormal(\"a\",sigma=5.0)\n",
        "    b = pm.HalfNormal(\"b\",sigma=5.0)\n",
        "    c = pm.HalfNormal(\"c\", sigma=5.0)\n",
        "    d = pm.HalfNormal(\"d\",sigma=5.0)\n",
        "    e = pm.HalfNormal(\"e\", sigma=50.0)\n",
        "    f = pm.HalfNormal(\"f\", sigma=5.0)\n",
        "    #avg = a*pm.math.exp(-n_vals/b)\n",
        "    avg = a*pm.math.exp(-n_vals/b) + c*pm.math.exp(n_vals/d) * (1/N_vals)\n",
        "    var = e*pm.math.exp(n_vals/f) / (N_vals**2)\n",
        "    likelihood = pm.Normal(\"likelihood\",mu=avg, sigma=pm.math.sqrt(var), observed=gam_vals)\n",
        "    trace = pm.sample(step=pm.NUTS(),draws=20000)\n",
        "  df = az.summary(trace)  \n",
        "  a_mu, a_sig = df.loc['a']['mean'], df.loc['a']['sd']  \n",
        "  b_mu, b_sig = df.loc['b']['mean'], df.loc['b']['sd'] \n",
        "  a_hold.append(np.array([a_mu,a_sig]))\n",
        "  b_hold.append(np.array([b_mu,b_sig]))\n",
        "  hx_hold.append(hxs[h])"
      ],
      "metadata": {
        "id": "FwM3lAL5giOq",
        "colab": {
          "base_uri": "https://localhost:8080/",
          "height": 194
        },
        "outputId": "00b7684e-c4e5-4b29-9360-d8f061e56624"
      },
      "execution_count": null,
      "outputs": [
        {
          "output_type": "display_data",
          "data": {
            "text/plain": [
              "<IPython.core.display.HTML object>"
            ],
            "text/html": [
              "\n",
              "<style>\n",
              "    /* Turns off some styling */\n",
              "    progress {\n",
              "        /* gets rid of default border in Firefox and Opera. */\n",
              "        border: none;\n",
              "        /* Needs to be in here for Safari polyfill so background images work as expected. */\n",
              "        background-size: auto;\n",
              "    }\n",
              "    progress:not([value]), progress:not([value])::-webkit-progress-bar {\n",
              "        background: repeating-linear-gradient(45deg, #7e7e7e, #7e7e7e 10px, #5c5c5c 10px, #5c5c5c 20px);\n",
              "    }\n",
              "    .progress-bar-interrupted, .progress-bar-interrupted::-webkit-progress-bar {\n",
              "        background: #F44336;\n",
              "    }\n",
              "</style>\n"
            ]
          },
          "metadata": {}
        },
        {
          "output_type": "display_data",
          "data": {
            "text/plain": [
              "<IPython.core.display.HTML object>"
            ],
            "text/html": [
              "\n",
              "    <div>\n",
              "      <progress value='21000' class='' max='21000' style='width:300px; height:20px; vertical-align: middle;'></progress>\n",
              "      100.00% [21000/21000 03:46&lt;00:00 Sampling chain 0, 0 divergences]\n",
              "    </div>\n",
              "    "
            ]
          },
          "metadata": {}
        },
        {
          "output_type": "display_data",
          "data": {
            "text/plain": [
              "<IPython.core.display.HTML object>"
            ],
            "text/html": [
              "\n",
              "<style>\n",
              "    /* Turns off some styling */\n",
              "    progress {\n",
              "        /* gets rid of default border in Firefox and Opera. */\n",
              "        border: none;\n",
              "        /* Needs to be in here for Safari polyfill so background images work as expected. */\n",
              "        background-size: auto;\n",
              "    }\n",
              "    progress:not([value]), progress:not([value])::-webkit-progress-bar {\n",
              "        background: repeating-linear-gradient(45deg, #7e7e7e, #7e7e7e 10px, #5c5c5c 10px, #5c5c5c 20px);\n",
              "    }\n",
              "    .progress-bar-interrupted, .progress-bar-interrupted::-webkit-progress-bar {\n",
              "        background: #F44336;\n",
              "    }\n",
              "</style>\n"
            ]
          },
          "metadata": {}
        },
        {
          "output_type": "display_data",
          "data": {
            "text/plain": [
              "<IPython.core.display.HTML object>"
            ],
            "text/html": [
              "\n",
              "    <div>\n",
              "      <progress value='21000' class='' max='21000' style='width:300px; height:20px; vertical-align: middle;'></progress>\n",
              "      100.00% [21000/21000 03:30&lt;00:00 Sampling chain 1, 0 divergences]\n",
              "    </div>\n",
              "    "
            ]
          },
          "metadata": {}
        },
        {
          "output_type": "display_data",
          "data": {
            "text/plain": [
              "<IPython.core.display.HTML object>"
            ],
            "text/html": [
              "\n",
              "<style>\n",
              "    /* Turns off some styling */\n",
              "    progress {\n",
              "        /* gets rid of default border in Firefox and Opera. */\n",
              "        border: none;\n",
              "        /* Needs to be in here for Safari polyfill so background images work as expected. */\n",
              "        background-size: auto;\n",
              "    }\n",
              "    progress:not([value]), progress:not([value])::-webkit-progress-bar {\n",
              "        background: repeating-linear-gradient(45deg, #7e7e7e, #7e7e7e 10px, #5c5c5c 10px, #5c5c5c 20px);\n",
              "    }\n",
              "    .progress-bar-interrupted, .progress-bar-interrupted::-webkit-progress-bar {\n",
              "        background: #F44336;\n",
              "    }\n",
              "</style>\n"
            ]
          },
          "metadata": {}
        },
        {
          "output_type": "display_data",
          "data": {
            "text/plain": [
              "<IPython.core.display.HTML object>"
            ],
            "text/html": [
              "\n",
              "    <div>\n",
              "      <progress value='21000' class='' max='21000' style='width:300px; height:20px; vertical-align: middle;'></progress>\n",
              "      100.00% [21000/21000 03:08&lt;00:00 Sampling chain 0, 0 divergences]\n",
              "    </div>\n",
              "    "
            ]
          },
          "metadata": {}
        },
        {
          "output_type": "display_data",
          "data": {
            "text/plain": [
              "<IPython.core.display.HTML object>"
            ],
            "text/html": [
              "\n",
              "<style>\n",
              "    /* Turns off some styling */\n",
              "    progress {\n",
              "        /* gets rid of default border in Firefox and Opera. */\n",
              "        border: none;\n",
              "        /* Needs to be in here for Safari polyfill so background images work as expected. */\n",
              "        background-size: auto;\n",
              "    }\n",
              "    progress:not([value]), progress:not([value])::-webkit-progress-bar {\n",
              "        background: repeating-linear-gradient(45deg, #7e7e7e, #7e7e7e 10px, #5c5c5c 10px, #5c5c5c 20px);\n",
              "    }\n",
              "    .progress-bar-interrupted, .progress-bar-interrupted::-webkit-progress-bar {\n",
              "        background: #F44336;\n",
              "    }\n",
              "</style>\n"
            ]
          },
          "metadata": {}
        },
        {
          "output_type": "display_data",
          "data": {
            "text/plain": [
              "<IPython.core.display.HTML object>"
            ],
            "text/html": [
              "\n",
              "    <div>\n",
              "      <progress value='21000' class='' max='21000' style='width:300px; height:20px; vertical-align: middle;'></progress>\n",
              "      100.00% [21000/21000 03:15&lt;00:00 Sampling chain 1, 0 divergences]\n",
              "    </div>\n",
              "    "
            ]
          },
          "metadata": {}
        },
        {
          "output_type": "display_data",
          "data": {
            "text/plain": [
              "<IPython.core.display.HTML object>"
            ],
            "text/html": [
              "\n",
              "<style>\n",
              "    /* Turns off some styling */\n",
              "    progress {\n",
              "        /* gets rid of default border in Firefox and Opera. */\n",
              "        border: none;\n",
              "        /* Needs to be in here for Safari polyfill so background images work as expected. */\n",
              "        background-size: auto;\n",
              "    }\n",
              "    progress:not([value]), progress:not([value])::-webkit-progress-bar {\n",
              "        background: repeating-linear-gradient(45deg, #7e7e7e, #7e7e7e 10px, #5c5c5c 10px, #5c5c5c 20px);\n",
              "    }\n",
              "    .progress-bar-interrupted, .progress-bar-interrupted::-webkit-progress-bar {\n",
              "        background: #F44336;\n",
              "    }\n",
              "</style>\n"
            ]
          },
          "metadata": {}
        },
        {
          "output_type": "display_data",
          "data": {
            "text/plain": [
              "<IPython.core.display.HTML object>"
            ],
            "text/html": [
              "\n",
              "    <div>\n",
              "      <progress value='21000' class='' max='21000' style='width:300px; height:20px; vertical-align: middle;'></progress>\n",
              "      100.00% [21000/21000 03:52&lt;00:00 Sampling chain 0, 0 divergences]\n",
              "    </div>\n",
              "    "
            ]
          },
          "metadata": {}
        },
        {
          "output_type": "display_data",
          "data": {
            "text/plain": [
              "<IPython.core.display.HTML object>"
            ],
            "text/html": [
              "\n",
              "<style>\n",
              "    /* Turns off some styling */\n",
              "    progress {\n",
              "        /* gets rid of default border in Firefox and Opera. */\n",
              "        border: none;\n",
              "        /* Needs to be in here for Safari polyfill so background images work as expected. */\n",
              "        background-size: auto;\n",
              "    }\n",
              "    progress:not([value]), progress:not([value])::-webkit-progress-bar {\n",
              "        background: repeating-linear-gradient(45deg, #7e7e7e, #7e7e7e 10px, #5c5c5c 10px, #5c5c5c 20px);\n",
              "    }\n",
              "    .progress-bar-interrupted, .progress-bar-interrupted::-webkit-progress-bar {\n",
              "        background: #F44336;\n",
              "    }\n",
              "</style>\n"
            ]
          },
          "metadata": {}
        },
        {
          "output_type": "display_data",
          "data": {
            "text/plain": [
              "<IPython.core.display.HTML object>"
            ],
            "text/html": [
              "\n",
              "    <div>\n",
              "      <progress value='21000' class='' max='21000' style='width:300px; height:20px; vertical-align: middle;'></progress>\n",
              "      100.00% [21000/21000 03:38&lt;00:00 Sampling chain 1, 0 divergences]\n",
              "    </div>\n",
              "    "
            ]
          },
          "metadata": {}
        },
        {
          "output_type": "display_data",
          "data": {
            "text/plain": [
              "<IPython.core.display.HTML object>"
            ],
            "text/html": [
              "\n",
              "<style>\n",
              "    /* Turns off some styling */\n",
              "    progress {\n",
              "        /* gets rid of default border in Firefox and Opera. */\n",
              "        border: none;\n",
              "        /* Needs to be in here for Safari polyfill so background images work as expected. */\n",
              "        background-size: auto;\n",
              "    }\n",
              "    progress:not([value]), progress:not([value])::-webkit-progress-bar {\n",
              "        background: repeating-linear-gradient(45deg, #7e7e7e, #7e7e7e 10px, #5c5c5c 10px, #5c5c5c 20px);\n",
              "    }\n",
              "    .progress-bar-interrupted, .progress-bar-interrupted::-webkit-progress-bar {\n",
              "        background: #F44336;\n",
              "    }\n",
              "</style>\n"
            ]
          },
          "metadata": {}
        },
        {
          "output_type": "display_data",
          "data": {
            "text/plain": [
              "<IPython.core.display.HTML object>"
            ],
            "text/html": [
              "\n",
              "    <div>\n",
              "      <progress value='21000' class='' max='21000' style='width:300px; height:20px; vertical-align: middle;'></progress>\n",
              "      100.00% [21000/21000 03:13&lt;00:00 Sampling chain 0, 0 divergences]\n",
              "    </div>\n",
              "    "
            ]
          },
          "metadata": {}
        },
        {
          "output_type": "display_data",
          "data": {
            "text/plain": [
              "<IPython.core.display.HTML object>"
            ],
            "text/html": [
              "\n",
              "<style>\n",
              "    /* Turns off some styling */\n",
              "    progress {\n",
              "        /* gets rid of default border in Firefox and Opera. */\n",
              "        border: none;\n",
              "        /* Needs to be in here for Safari polyfill so background images work as expected. */\n",
              "        background-size: auto;\n",
              "    }\n",
              "    progress:not([value]), progress:not([value])::-webkit-progress-bar {\n",
              "        background: repeating-linear-gradient(45deg, #7e7e7e, #7e7e7e 10px, #5c5c5c 10px, #5c5c5c 20px);\n",
              "    }\n",
              "    .progress-bar-interrupted, .progress-bar-interrupted::-webkit-progress-bar {\n",
              "        background: #F44336;\n",
              "    }\n",
              "</style>\n"
            ]
          },
          "metadata": {}
        },
        {
          "output_type": "display_data",
          "data": {
            "text/plain": [
              "<IPython.core.display.HTML object>"
            ],
            "text/html": [
              "\n",
              "    <div>\n",
              "      <progress value='21000' class='' max='21000' style='width:300px; height:20px; vertical-align: middle;'></progress>\n",
              "      100.00% [21000/21000 03:04&lt;00:00 Sampling chain 1, 0 divergences]\n",
              "    </div>\n",
              "    "
            ]
          },
          "metadata": {}
        },
        {
          "output_type": "stream",
          "name": "stderr",
          "text": [
            "WARNING:pymc:The acceptance probability does not match the target. It is 0.8886, but should be close to 0.8. Try to increase the number of tuning steps.\n"
          ]
        }
      ]
    },
    {
      "cell_type": "code",
      "source": [
        "#If you want to see the MC results \n",
        "#axes = az.plot_trace(trace)\n",
        "#fig = axes.ravel()[0].figure"
      ],
      "metadata": {
        "id": "xs_xQzFcWcIG"
      },
      "execution_count": 1,
      "outputs": []
    },
    {
      "cell_type": "code",
      "source": [
        "a_hold = np.array(a_hold)\n",
        "b_hold = np.array(b_hold)\n",
        "hx_hold = np.array(hx_hold)"
      ],
      "metadata": {
        "id": "P0AC3xUPqEJc"
      },
      "execution_count": null,
      "outputs": []
    },
    {
      "cell_type": "code",
      "source": [
        "plt.errorbar(hx_hold, 1/ b_hold[:,0], yerr=b_hold[:,1]/(b_hold[:,0]**2), marker='o', ls='none')\n",
        "#plt.scatter(a_hold[:,1],b_hold[:,1])\n",
        "plt.xlabel(r\"$h_x$\")\n",
        "plt.ylabel(r'$\\frac{1}{b}$',fontsize=20)\n",
        "#plt.legend(loc='best')\n",
        "#plt.savefig('/content/drive/MyDrive/Datasets/Plots/renyi/new_plot_olddatalow.pdf',format='pdf',bbox_inches='tight')\n",
        "plt.show()"
      ],
      "metadata": {
        "id": "7XQKpsQIWeDj"
      },
      "execution_count": null,
      "outputs": []
    }
  ]
}